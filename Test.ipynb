{
 "cells": [
  {
   "cell_type": "code",
   "execution_count": 7,
   "metadata": {
    "scrolled": false
   },
   "outputs": [
    {
     "name": "stdout",
     "output_type": "stream",
     "text": [
      "The autoreload extension is already loaded. To reload it, use:\n",
      "  %reload_ext autoreload\n"
     ]
    }
   ],
   "source": [
    "%load_ext autoreload\n",
    "%autoreload 2\n",
    "\n",
    "import numpy as np\n",
    "\n",
    "from phLigands.DataFrame import read_file\n",
    "from phLigands.Estimator import Estimator\n",
    "\n",
    "from phLigands.Extremizer import CoordEx\n",
    "from phLigands.Extremizer import Gradient\n",
    "from phLigands.Metric import Dist2cobyla\n",
    "from phLigands.Metric import Dist2\n",
    "from phLigands.Metric import Diff2\n",
    "from phLigands.Metric import R2\n",
    "from phLigands.Metric import Y2\n",
    "from phLigands.Model import LinReg\n",
    "from phLigands.Model import ScatchardN\n",
    "from phLigands.Model import MGvH\n",
    "from phLigands.Model import MGvH1900"
   ]
  },
  {
   "cell_type": "code",
   "execution_count": 17,
   "metadata": {
    "scrolled": false
   },
   "outputs": [
    {
     "name": "stdout",
     "output_type": "stream",
     "text": [
      "Iterations: 1001\n",
      "Best params:  {'c': 41, 'Af': 0, 'Ab': 192.5247109681841, 'k': 0.06966479270045192, 'n': 1.9998299079300415}\n",
      "Score:  357.36335448953395\n",
      "\n",
      "\n"
     ]
    },
    {
     "data": {
      "image/png": "[encoded data removed]",
      "text/plain": [
       "<Figure size 720x360 with 1 Axes>"
      ]
     },
     "metadata": {
      "needs_background": "light"
     },
     "output_type": "display_data"
    }
   ],
   "source": [
    "import logging\n",
    "logger = logging.getLogger(\"Extremizer\")\n",
    "logger.setLevel(logging.DEBUG)\n",
    "\n",
    "data = read_file(\"data/modelligand\", names=[\"PD\", \"A\"])\n",
    "dataX, dataY = data[\"PD\"], data[\"A\"]\n",
    "\n",
    "def_params = {\n",
    "    \"c\": 41, \n",
    "    \"Af\": 0, \n",
    "    \"Ab\": 191, \n",
    "    \"k\": 0.03, \n",
    "    \"n\": 5,\n",
    "}\n",
    "extrem_params = {\n",
    "    \"Ab\": (190., 205.), \n",
    "    \"k\": (0.0001, 0.09), \n",
    "    \"n\": (1., 6.),\n",
    "}\n",
    "\n",
    "exp1 = Estimator(Gradient(precision=1e-9, alpha=5), Y2(), MGvH1900())\n",
    "exp1.fit(dataX, dataY)\n",
    "print(\"Best params: \", exp1.bestParams(def_params, extrem_params, extremizer_plot=True))\n",
    "print(\"Score: \", exp1.score())\n",
    "print(\"\\n\")\n",
    "\n",
    "exp1.plot()"
   ]
  }
 ],
 "metadata": {
  "kernelspec": {
   "display_name": "Python 3",
   "language": "python",
   "name": "python3"
  },
  "language_info": {
   "codemirror_mode": {
    "name": "ipython",
    "version": 3
   },
   "file_extension": ".py",
   "mimetype": "text/x-python",
   "name": "python",
   "nbconvert_exporter": "python",
   "pygments_lexer": "ipython3",
   "version": "3.7.1"
  }
 },
 "nbformat": 4,
 "nbformat_minor": 2
}
