{
 "cells": [
  {
   "cell_type": "code",
   "execution_count": 6,
   "metadata": {},
   "outputs": [
    {
     "name": "stdout",
     "output_type": "stream",
     "text": [
      "Overwriting Extremizer.py\n"
     ]
    }
   ],
   "source": [
    "%%writefile Extremizer.py\n",
    "import numpy as np\n",
    "\n",
    "class Extremizer():\n",
    "    def extremum(self, metric, model, start, field, dataX, dataY):\n",
    "        prev_params = start\n",
    "        while(True):\n",
    "            iter_params = prev_params.copy()\n",
    "            for param in iter_params.keys():\n",
    "                errors = np.empty(field[param].shape[0])\n",
    "                errors[:] = np.inf\n",
    "                for i, param_val in np.ndenumerate(field[param]):\n",
    "                    iter_params[param] = param_val\n",
    "                    errors[i] = metric.score(model, iter_params, dataX, dataY)\n",
    "#                     print(iter_params, \"score: \", errors[i])\n",
    "#                 print(np.isnan(errors[0]))\n",
    "                best_val = metric.extremum(filter(lambda x: not np.isnan(x), errors) )\n",
    "#                 print(\"B\",param, iter_params[param], \"score: \", errors)\n",
    "                iter_params[param] = field[param][np.where(errors == best_val)[0]][0]\n",
    "            print(\"AAAAAA\", iter_params)\n",
    "            if iter_params == prev_params:\n",
    "                return iter_params\n",
    "            prev_params = iter_params\n",
    "            \n",
    "class CoordEx(Extremizer):\n",
    "    pass\n",
    "\n",
    "\n",
    "# class FakeGrad(Extremizer):\n",
    "#     def diff(self, func, x, deltadiff):\n",
    "#         return (func(x-deltadiff/2) - func(x+deltadiff/2))/deltadiff\n",
    "    \n",
    "#     def extremum(self, metric, model, start, field, dataX, dataY, alpha=0.01, delta=0.1, deltadiff=0.001):\n",
    "#         x_prev = start\n",
    "#         x = x_prev.copy()\n",
    "#         while(True):\n",
    "#             for param in start.keys():\n",
    "#                 x[key] = x[key] - alpha * diff(metric.score(model, dataX, dataY))\n",
    "#             if np.abs(x_prev - x) < delta:\n",
    "#                 return x\n",
    "#             x_prev = x"
   ]
  }
 ],
 "metadata": {
  "kernelspec": {
   "display_name": "Python 3",
   "language": "python",
   "name": "python3"
  },
  "language_info": {
   "codemirror_mode": {
    "name": "ipython",
    "version": 3
   },
   "file_extension": ".py",
   "mimetype": "text/x-python",
   "name": "python",
   "nbconvert_exporter": "python",
   "pygments_lexer": "ipython3",
   "version": "3.7.1"
  }
 },
 "nbformat": 4,
 "nbformat_minor": 2
}
