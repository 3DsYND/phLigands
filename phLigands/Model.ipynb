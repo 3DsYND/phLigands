{
 "cells": [
  {
   "cell_type": "code",
   "execution_count": 5,
   "metadata": {},
   "outputs": [
    {
     "name": "stdout",
     "output_type": "stream",
     "text": [
      "Overwriting Model.py\n"
     ]
    }
   ],
   "source": [
    "%%writefile Model.py\n",
    "import numpy as np\n",
    "from scipy.optimize import root_scalar\n",
    "\n",
    "\n",
    "class Model:    \n",
    "    def _function(self, x, k, b):\n",
    "        return x * k + b\n",
    "    \n",
    "    def _derivative(self, x, k, b):\n",
    "        return k\n",
    "        \n",
    "    def _eval_function(self, function, params, dataX, **kwargs):\n",
    "        ### Fix this isinstance\n",
    "        if isinstance(dataX, np.float):\n",
    "            return function(dataX, **params)\n",
    "        dataX = np.asarray(dataX)\n",
    "        dataY = np.empty(dataX.shape[0])\n",
    "        dataY[:] = np.nan\n",
    "        for i, pointX in np.ndenumerate(dataX):\n",
    "            a = function(pointX, **params)\n",
    "            dataY[i] = a\n",
    "        return dataY   \n",
    "    \n",
    "    def eval(self, params, dataX, **kwargs):\n",
    "        return self._eval_function(self._function, params, dataX)\n",
    "    \n",
    "    def diff(self, params, dataX, **kwargs):\n",
    "        return self._eval_function(self._derivative, params, dataX)\n",
    "\n",
    "    \n",
    "class LinReg(Model):\n",
    "    pass\n",
    "\n",
    "\n",
    "class ScatchardN(Model):    \n",
    "    def _function(self, x, Ab, n, k):\n",
    "        if Ab == 0 or n == 0 or k == 0:\n",
    "            return np.nan\n",
    "        tmp = 1 / (k * Ab) + n + x\n",
    "        return Ab * (tmp - np.sqrt(tmp**2 - 4 * n * x)) / (2 * n)\n",
    "    \n",
    "    def _derivative(self, x, Ab, n, k):\n",
    "        if Ab == 0 or n == 0 or k == 0:\n",
    "            return np.nan\n",
    "        tmp = 1 / (k * Ab) + n + x\n",
    "        return Ab * (1 - (2 * tmp - 4 * n) / (2 * np.sqrt(tmp**2 - 4 * n * x)))/ (2 * n)\n",
    "    \n",
    "    \n",
    "class MGvH(Model):    \n",
    "    def _function(self, PD, c, Af, Ab, k, n):\n",
    "        N = c * PD\n",
    "        mgvh = lambda cb: cb - k * (c - cb) * (N - n * cb) * ((N - n * cb)/(N - (n-1) * cb))**(n-1)\n",
    "        cb = root_scalar(mgvh, bracket=(0, min([c, N/n])), method='brentq').root\n",
    "        return (c - cb)/c * Af + cb/c * Ab\n",
    "    \n",
    "    def _derivative(self, PD, c, Af, Ab, k, n):\n",
    "        step = 0.001\n",
    "        return (self._function(PD + step/2, c, Af, Ab, k, n) - self._function(PD - step / 2, c, Af, Ab, k, n)) / step\n",
    "    \n",
    "## I stole it\n",
    "class MGvH1900(Model):    \n",
    "    def _function(self, PD, c, Af, Ab, k, n):\n",
    "        precision = 1e-4\n",
    "        N = c * PD\n",
    "        mgvh = lambda cb: k*(c-cb)*(N-cb*n)*((N-cb*n)/(N-cb*(n-1)))**(n-1)-cb;\n",
    "        if (n<=0)or(k<=0): return 0\n",
    "        if n<=1:\n",
    "            return 0.5*(1/k+c+N/n-np.sqrt((1/k+c+N/n)**2-4*c*N/n))\n",
    "        _n = 0;\n",
    "        _r = min(c,N/n);\n",
    "        cb = (_n + _r)/2;\n",
    "        while (_r - _n > precision) and (abs(mgvh(cb)) > precision ):\n",
    "            if(mgvh(cb) * mgvh(_n) <= 0):\n",
    "                _r = cb\n",
    "            else :\n",
    "                _n = cb\n",
    "            cb = (_n + _r) / 2;\n",
    "        \n",
    "        return (c - cb)/c * Af + cb/c * Ab\n",
    "    \n",
    "    def _derivative(self, PD, c, Af, Ab, k, n):\n",
    "        step = 0.001\n",
    "        return (self._function(PD + step/2, c, Af, Ab, k, n) - self._function(PD - step / 2, c, Af, Ab, k, n)) / step"
   ]
  },
  {
   "cell_type": "code",
   "execution_count": null,
   "metadata": {},
   "outputs": [],
   "source": [
    "\n",
    "\n"
   ]
  }
 ],
 "metadata": {
  "kernelspec": {
   "display_name": "Python 3",
   "language": "python",
   "name": "python3"
  },
  "language_info": {
   "codemirror_mode": {
    "name": "ipython",
    "version": 3
   },
   "file_extension": ".py",
   "mimetype": "text/x-python",
   "name": "python",
   "nbconvert_exporter": "python",
   "pygments_lexer": "ipython3",
   "version": "3.7.1"
  }
 },
 "nbformat": 4,
 "nbformat_minor": 2
}
