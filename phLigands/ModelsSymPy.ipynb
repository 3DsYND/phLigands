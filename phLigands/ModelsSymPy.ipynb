{
 "cells": [
  {
   "cell_type": "code",
   "execution_count": 11,
   "metadata": {},
   "outputs": [
    {
     "name": "stdout",
     "output_type": "stream",
     "text": [
      "Overwriting ModelsSymPy.py\n"
     ]
    }
   ],
   "source": [
    "%%writefile ModelsSymPy.py\n",
    "import numpy as np\n",
    "from scipy.optimize import fsolve\n",
    "from sympy.solvers import solve\n",
    "from sympy import solve_poly_system\n",
    "from sympy import Symbol\n",
    "\n",
    "from phLigands.Model import Model\n",
    "\n",
    "class test(Model):    \n",
    "    def setDefParams(self):\n",
    "        defparams = dict()\n",
    "        defparams[\"k1\"] = {\"min\" : 0.0001, \"def\" : 0.03, \"max\" : 1}\n",
    "        defparams[\"k2\"] = {\"min\" : 0.0001, \"def\" : 0.02, \"max\" : 1}\n",
    "        defparams[\"n\"] = {\"min\" : 1, \"def\" : 2, \"max\" : 10}\n",
    "        defparams[\"Ab1\"] = {\"min\" : -10, \"def\" : -5, \"max\" : 10}\n",
    "        defparams[\"Ab2\"] = {\"min\" : 0.001, \"def\" : 3.6, \"max\" : }\n",
    "        return defparams\n",
    "    \n",
    "    def function(self, x, k1, k2, n, Ab1, Ab2, c=41, Af=1):\n",
    "        def equations(val, PD, k1, k2, n, Ab1, Ab2, c=40, Af=1):\n",
    "            A, cb1, cb2 = val\n",
    "            N = c * PD\n",
    "            eq0 = (c - cb1 - cb2)/c * Af + cb1/c * Ab1 + cb2/c * Ab2 - A\n",
    "            eq1 = cb1 - k1 * (c - cb1 - cb2) * (2*N - cb1) * (1 - cb2/N)\n",
    "            eq2 = cb2 - k2 * (c - cb1 - cb2) * (N - n * cb2) * (1 - cb1/2/N)**2 * ((N - n * cb2)/(N - n * (n-1) * cb2))**(n-1)\n",
    "            return (eq0, eq1, eq2)\n",
    "\n",
    "#         A, cb1, cb2\n",
    "        start = (1, 1, 1)\n",
    "        args = (PD, k1, k2, n, Ab1, Ab2)\n",
    "        A, cb1, cb2 =  fsolve(equations, start, args, maxfev=200)\n",
    "#         print(A, cb1, cb2, \"error: \", equations((A, cb1, cb2), *args))\n",
    "        return A"
   ]
  }
 ],
 "metadata": {
  "kernelspec": {
   "display_name": "Python 3",
   "language": "python",
   "name": "python3"
  },
  "language_info": {
   "codemirror_mode": {
    "name": "ipython",
    "version": 3
   },
   "file_extension": ".py",
   "mimetype": "text/x-python",
   "name": "python",
   "nbconvert_exporter": "python",
   "pygments_lexer": "ipython3",
   "version": "3.7.1"
  }
 },
 "nbformat": 4,
 "nbformat_minor": 2
}
