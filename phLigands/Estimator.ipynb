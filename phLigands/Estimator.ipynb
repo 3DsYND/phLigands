{
 "cells": [
  {
   "cell_type": "code",
   "execution_count": 28,
   "metadata": {},
   "outputs": [
    {
     "name": "stdout",
     "output_type": "stream",
     "text": [
      "Overwriting Estimator.py\n"
     ]
    }
   ],
   "source": [
    "%%writefile Estimator.py\n",
    "import numpy as np\n",
    "import matplotlib.pyplot as plt\n",
    "from matplotlib.colors import LogNorm\n",
    "\n",
    "class Estimator:\n",
    "    params = None\n",
    "    dataX = None\n",
    "    dataY = None\n",
    "    model = None\n",
    "    metric = None\n",
    "    extremizer = None\n",
    "    \n",
    "    def __init__(self, extremizer=None, metric=None, model=None):\n",
    "        self.extremizer = extremizer\n",
    "        self.metric = metric\n",
    "        self.model = model\n",
    "    \n",
    "    def fit(self, dataX, dataY):\n",
    "        self.dataX = dataX\n",
    "        self.dataY = dataY\n",
    "        \n",
    "    def bestParams(self, def_params, var_params):\n",
    "        self.params = self.extremizer.extremum(self.metric, self.model, self.dataX, self.dataY, def_params, var_params)\n",
    "        return self.params\n",
    "    \n",
    "    def score(self, params=None, is_array=False):\n",
    "        if not params:\n",
    "            params = self.params.copy()\n",
    "        return self.metric.score(self.model, params, self.dataX, self.dataY, is_array)\n",
    "\n",
    "    def desmos(self):\n",
    "        print(f\"A(x, {self.params['Ab']}, {self.params['n']}, {self.params['k']})\")\n",
    "    \n",
    "    def plotAB(self, var_params, params=None, iters=100, log=None, **kwargs):\n",
    "        if not params: params = self.params\n",
    "        if len(var_params.keys()) != 2:\n",
    "            self.logger.warning(\"plotAB must have 2 variable parametrs\")\n",
    "            return None\n",
    "        A, B = var_params.keys()\n",
    "        \n",
    "        lin = [np.linspace(interval[0], interval[1], iters) for param, interval in var_params.items()]\n",
    "        meshA, meshB = np.meshgrid(lin[0], lin[1])\n",
    "        res = np.array(meshA)\n",
    "        res[:] = np.nan\n",
    "        \n",
    "        for index, x in np.ndenumerate(res):\n",
    "            params_field = params.copy()\n",
    "            params_field[A], params_field[B] = meshA[index], meshB[index]\n",
    "            res[index] = self.metric.score(self.model, params_field, self.dataX, self.dataY)\n",
    "        \n",
    "        minA, minB = meshA[np.where(res == res.min())], meshB[np.where(res == res.min())]\n",
    "        lognorm = LogNorm() if log else None\n",
    "        plt.figure(figsize=(10,10))\n",
    "        if not \"aspect\" in kwargs: kwargs[\"aspect\"] = (var_params[A][1] - var_params[A][0]) / (var_params[B][1] - var_params[B][0]) / 3\n",
    "        plt.imshow(res, extent=[lin[0][0], lin[0][-1], lin[1][-1], lin[1][0]], norm=lognorm, **kwargs)\n",
    "        plt.scatter(minA, minB, color=\"red\")\n",
    "        plt.show()\n",
    "        \n",
    "        params_field = params.copy()\n",
    "        params_field[A], params_field[B] = minA, minB\n",
    "        print(f\"Real minimum: {{\\\"{A}\\\": {round(minA[0], 3)}, \\\"{B}\\\": {round(minB[0], 3)}}}, Score: {round(self.metric.score(self.model, params_field, self.dataX, self.dataY), 2)}\")\n",
    "        \n",
    "        return res\n",
    "    \n",
    "    def plot(self, params=None, iter=20):\n",
    "        if not params: params = self.params.copy()\n",
    "        plt.figure(figsize=(10,5))\n",
    "        plt.scatter(self.dataX, self.dataY)\n",
    "        xgr = np.linspace(self.dataX.min(), self.dataX.max(), iter)\n",
    "        ygr = self.model.eval(params, xgr)\n",
    "        plt.plot(xgr, ygr)\n",
    "        plt.show()"
   ]
  },
  {
   "cell_type": "code",
   "execution_count": null,
   "metadata": {},
   "outputs": [],
   "source": []
  }
 ],
 "metadata": {
  "kernelspec": {
   "display_name": "Python 3",
   "language": "python",
   "name": "python3"
  },
  "language_info": {
   "codemirror_mode": {
    "name": "ipython",
    "version": 3
   },
   "file_extension": ".py",
   "mimetype": "text/x-python",
   "name": "python",
   "nbconvert_exporter": "python",
   "pygments_lexer": "ipython3",
   "version": "3.7.1"
  }
 },
 "nbformat": 4,
 "nbformat_minor": 2
}
