{
 "cells": [
  {
   "cell_type": "code",
   "execution_count": 57,
   "metadata": {},
   "outputs": [
    {
     "name": "stdout",
     "output_type": "stream",
     "text": [
      "Overwriting Estimator.py\n"
     ]
    }
   ],
   "source": [
    "%%writefile Estimator.py\n",
    "import numpy as np\n",
    "import matplotlib.pyplot as plt\n",
    "from matplotlib.colors import LogNorm\n",
    "\n",
    "class Estimator:\n",
    "    dataX = None\n",
    "    dataY = None\n",
    "    model = None\n",
    "    metric = None\n",
    "    extremizer = None\n",
    "    \n",
    "    def __init__(self, extremizer=None, metric=None, model=None, defparams=None):\n",
    "        if extremizer: self.setExtremizer(extremizer)\n",
    "        if metric: self.setMetric(metric)\n",
    "        if model: self.setModel(model)\n",
    "    \n",
    "    def setExtremizer(self, extremizer):\n",
    "        self.extremizer = extremizer\n",
    "    \n",
    "    def setMetric(self, metric):\n",
    "        self.metric = metric\n",
    "    \n",
    "    def setModel(self, model):\n",
    "        self.model = model\n",
    "    \n",
    "    def fit(self, dataX, dataY):\n",
    "        self.dataX = dataX\n",
    "        self.dataY = dataY\n",
    "        \n",
    "    def bestParams(self):            \n",
    "        start = self.model.getDefParams()\n",
    "        field = self.model.getDefField()\n",
    "        self.params = self.extremizer.extremum(self.metric, self.model, start, field, self.dataX, self.dataY)\n",
    "        return self.params\n",
    "    \n",
    "    def score(self, params=None, is_array=False):\n",
    "        if not params:\n",
    "            params = self.params.copy()\n",
    "        return self.metric.score(self.model, params, self.dataX, self.dataY, is_array)\n",
    "\n",
    "    def desmos(self):\n",
    "        print(f\"A(x, {self.params['A_b']}, {self.params['n']}, {self.params['k']})\")\n",
    "    \n",
    "    def plotAB(self, A, B, rangeA=None, rangeB=None, dlt=0.5, log=None, **kwargs):\n",
    "        linA, linB = self.model.getField(A, rangeA, dlt=dlt), self.model.getField(B, rangeB, dlt=dlt)\n",
    "        meshA, meshB = np.meshgrid(linA, linB)\n",
    "        res = np.array(meshA)\n",
    "        res[:] = np.nan\n",
    "        \n",
    "        for index, x in np.ndenumerate(res):\n",
    "            params = self.params.copy()\n",
    "            params[A], params[B] = meshA[index], meshB[index]\n",
    "            res[index] = self.metric.score(self.model, params, self.dataX, self.dataY)\n",
    "        \n",
    "        lognorm = LogNorm() if log else None\n",
    "        plt.figure(figsize=(10,10))\n",
    "        plt.imshow(res, extent=[linA[0], linA[-1], linB[-1], linB[0]], norm=lognorm, **kwargs)\n",
    "        plt.scatter(meshA[np.where(res == res.min())], meshB[np.where(res == res.min())], color=\"red\")\n",
    "        plt.show()\n",
    "        return res\n",
    "    \n",
    "    def plot(self, params=None, iter=20):\n",
    "        if not params: params = self.params.copy()\n",
    "        plt.figure(figsize=(10,5))\n",
    "        plt.scatter(self.dataX, self.dataY)\n",
    "        xgr = np.linspace(self.dataX.min(), self.dataX.max(), iter)\n",
    "        print(\"ASD\", params)\n",
    "        ygr = self.model.eval(params, xgr)\n",
    "        plt.plot(xgr, ygr)\n",
    "        plt.show()"
   ]
  },
  {
   "cell_type": "code",
   "execution_count": null,
   "metadata": {},
   "outputs": [],
   "source": []
  }
 ],
 "metadata": {
  "kernelspec": {
   "display_name": "Python 3",
   "language": "python",
   "name": "python3"
  },
  "language_info": {
   "codemirror_mode": {
    "name": "ipython",
    "version": 3
   },
   "file_extension": ".py",
   "mimetype": "text/x-python",
   "name": "python",
   "nbconvert_exporter": "python",
   "pygments_lexer": "ipython3",
   "version": "3.7.1"
  }
 },
 "nbformat": 4,
 "nbformat_minor": 2
}
