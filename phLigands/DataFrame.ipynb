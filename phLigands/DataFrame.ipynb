{
 "cells": [
  {
   "cell_type": "code",
   "execution_count": 16,
   "metadata": {},
   "outputs": [
    {
     "name": "stdout",
     "output_type": "stream",
     "text": [
      "Writing DataFrame.py\n"
     ]
    }
   ],
   "source": [
    "%%writefile DataFrame.py\n",
    "import numpy as np\n",
    "\n",
    "def read_file(path, delimiter=\"\\t\", names=None):\n",
    "    return np.transpose(np.genfromtxt(path, delimiter=delimiter, names=names))"
   ]
  }
 ],
 "metadata": {
  "kernelspec": {
   "display_name": "Python 3",
   "language": "python",
   "name": "python3"
  },
  "language_info": {
   "codemirror_mode": {
    "name": "ipython",
    "version": 3
   },
   "file_extension": ".py",
   "mimetype": "text/x-python",
   "name": "python",
   "nbconvert_exporter": "python",
   "pygments_lexer": "ipython3",
   "version": "3.7.1"
  }
 },
 "nbformat": 4,
 "nbformat_minor": 2
}
